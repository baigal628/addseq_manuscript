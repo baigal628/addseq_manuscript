{
 "cells": [
  {
   "cell_type": "code",
   "execution_count": 9,
   "id": "e7287d89-4fe0-4e82-a0c2-d4ca378533ce",
   "metadata": {},
   "outputs": [],
   "source": [
    "from tqdm import tqdm\n",
    "import pyarrow.parquet as pq\n",
    "import random\n",
    "import sys\n",
    "from bisect import bisect_right\n",
    "sys.path.insert(0, '/private/groups/brookslab/gabai/tools/NEMO/src/')\n",
    "import importlib\n",
    "from predict import *\n",
    "from plot import *\n",
    "importlib.reload(sys.modules['predict'])\n",
    "importlib.reload(sys.modules['plot'])\n",
    "from predict import *\n",
    "from plot import *"
   ]
  },
  {
   "cell_type": "code",
   "execution_count": 24,
   "id": "40fe8bcb-d127-4d96-810f-1b819dea4dff",
   "metadata": {},
   "outputs": [],
   "source": [
    "dt_outpath = '../data/'\n",
    "fig_outpath = '../figures/'\n",
    "gtfFile = '/private/groups/brookslab/gabai/projects/Add-seq/data/ref/Saccharomyces_cerevisiae.R64-1-1.109.gtf'"
   ]
  },
  {
   "cell_type": "code",
   "execution_count": 25,
   "id": "90951ef8-849f-4498-af50-ac230c1d65a2",
   "metadata": {},
   "outputs": [],
   "source": [
    "chrom_190429_pred = '/private/groups/brookslab/gabai/projects/Add-seq/data/chrom/modPredict/240905_prediction/240912_dorado_20190429_chrom.tsv'\n",
    "chrom_210615_pred = '/private/groups/brookslab/gabai/projects/Add-seq/data/chrom/modPredict/240905_prediction/240917_dorado_20210615_full.tsv'\n",
    "chrom_sphe_pred = '/private/groups/brookslab/gabai/projects/Add-seq/data/chrom/modPredict/240905_prediction/240909_dorado_sphe_using_nuclei_model.tsv'\n",
    "\n",
    "all_predfile = [chrom_190429_pred, chrom_210615_pred, chrom_sphe_pred]\n",
    "labels = ['nuclei_rep1', 'nuclei_rep2', 'spheroplast']\n",
    "\n",
    "# genes to plot\n",
    "all_genes = {'CLN2':'chrXVI:66400-67550', 'ZDS2': 'chrXIII:51200-52700', 'NUP170':'chrII:74300-75800', 'APC1':'chrXIV:309955-311155', \n",
    "             'SLM1':'chrIX:169155-170355', 'SHE9':'chrIV:1259279-1260479', 'RPS14B':'chrX:73214-74414', 'zz-YIL161W':'chrIX:38868-40068',\n",
    "             'RDN':'chrXII:451060-468140'}"
   ]
  },
  {
   "cell_type": "code",
   "execution_count": null,
   "id": "ec55d37b-ce8a-4254-a529-b97e4faa54f3",
   "metadata": {},
   "outputs": [
    {
     "name": "stderr",
     "output_type": "stream",
     "text": [
      "99it [00:00, 983.95it/s]"
     ]
    },
    {
     "name": "stdout",
     "output_type": "stream",
     "text": [
      "plotting RDN with nuclei_rep1 ...\n",
      "preprocessing input matrix...\n"
     ]
    },
    {
     "name": "stderr",
     "output_type": "stream",
     "text": [
      "13344it [00:16, 828.51it/s] \n"
     ]
    },
    {
     "name": "stdout",
     "output_type": "stream",
     "text": [
      "number of reads before filtering: 451\n",
      "number of reads kept: 164\n",
      "filtering hyper-methylated reads...\n",
      "number of reads kept: 163\n",
      "writing output to file:  ../figures/Figure3_nuclei_rep1_RDN_chrXII:451060-468140.mtx\n",
      "nan in output matrix!\n",
      "running hierarchical clustering...\n",
      "Clustering with number of clusters = 4\n",
      "plotting gene annotations...\n"
     ]
    },
    {
     "name": "stderr",
     "output_type": "stream",
     "text": [
      " 57%|█████████████████████████████████████████████████████████████████████████████                                                          | 93/163 [26:22<22:04, 18.93s/it]/private/groups/brookslab/gabai/tools/NEMO/src/plot.py:143: RuntimeWarning: invalid value encountered in divide\n",
      "  \n",
      "100%|██████████████████████████████████████████████████████████████████████████████████████████████████████████████████████████████████████| 163/163 [46:07<00:00, 14.55s/it]\n",
      "/private/groups/brookslab/gabai/tools/NEMO/src/plot.py:189: RuntimeWarning: invalid value encountered in divide\n",
      "  if thiscluster or thiscluster==0:\n"
     ]
    }
   ],
   "source": [
    "all_predfile = [chrom_sphe_pred]\n",
    "all_genes = {'RDN':'chrXII:451060-468140'}\n",
    "prefix = 'Figure3'\n",
    "for geneid in all_genes:\n",
    "    for i in range(len(all_predfile)):\n",
    "        space = 150\n",
    "        predfile = all_predfile[i]\n",
    "        print(f'plotting {geneid} with {labels[i]} ...')\n",
    "        if geneid == 'RDN': \n",
    "            space = 1000\n",
    "        # plotModTrack(predfile, all_genes[geneid], ncluster=1, outpath=fig_outpath, prefix= f'{prefix}_{labels[i]}_{geneid}', gtfFile=gtfFile, xticks_space = space, na_thred=0.4)\n",
    "        # plotModTrack(predfile, all_genes[geneid], ncluster=2, outpath=fig_outpath, prefix= f'{prefix}_{labels[i]}_{geneid}', gtfFile=gtfFile, xticks_space = space, na_thred=0.4)\n",
    "        # plotModTrack(predfile, all_genes[geneid], ncluster=3, outpath=fig_outpath, prefix= f'{prefix}_{labels[i]}_{geneid}', gtfFile=gtfFile, xticks_space = space, na_thred=0.4)\n",
    "        plotModTrack(predfile, all_genes[geneid], ncluster=4, outpath=fig_outpath, prefix= f'{prefix}_{labels[i]}_{geneid}', gtfFile=gtfFile, xticks_space = space, na_thred=0.4)"
   ]
  },
  {
   "cell_type": "code",
   "execution_count": 22,
   "id": "661b849f-6287-4920-b390-d86cef5f61e4",
   "metadata": {},
   "outputs": [],
   "source": [
    "from tqdm import tqdm\n",
    "import pyarrow.parquet as pq\n",
    "import random\n",
    "import sys\n",
    "from bisect import bisect_right\n",
    "sys.path.insert(0, '/private/groups/brookslab/gabai/tools/NEMO/src/')\n",
    "import importlib\n",
    "from predict import *\n",
    "from plot import *\n",
    "importlib.reload(sys.modules['predict'])\n",
    "importlib.reload(sys.modules['plot'])\n",
    "from predict import *\n",
    "from plot import *"
   ]
  },
  {
   "cell_type": "code",
   "execution_count": 19,
   "id": "6d09b655-b772-48dd-ac83-42f5548cc44b",
   "metadata": {},
   "outputs": [],
   "source": [
    "importlib.reload(sys.modules['plot'])\n",
    "from plot import *\n",
    "chrom='chrXII'\n",
    "startPlot = 450924\n",
    "endPlot = 466831\n",
    "gtfFile = '/private/groups/brookslab/gabai/projects/Add-seq/data/ref/Saccharomyces_cerevisiae.R64-1-1.109.gtf'\n",
    "features = ['gene', 'start_codon']\n",
    "genePlot = {'gene': ['gene_name', 'gene_id'], 'start_codon': ['gene_name', 'gene_id']}\n",
    "geneSlot = {'gene': 3, 'start_codon': 3}\n",
    "features, sorted_gtfReads = readGTF(gtfFile, chromPlot = chrom.split('chr')[1], \n",
    "                                        genePlot = genePlot, geneSlot = geneSlot, \n",
    "                                        startPlot = startPlot, endPlot = endPlot, features = features)"
   ]
  },
  {
   "cell_type": "code",
   "execution_count": 11,
   "id": "122ea9e3-c0fc-4703-b7d9-df7dea98c4be",
   "metadata": {},
   "outputs": [],
   "source": [
    "transcripts = ['gene_id \"YLL050C\"', ' gene_name \"COF1\"', ' gene_source \"sgd\"', ' gene_biotype \"protein_coding\"', '\\n']"
   ]
  },
  {
   "cell_type": "code",
   "execution_count": 17,
   "id": "f1b65e49-2514-497f-aaf5-52ef8fb1844c",
   "metadata": {},
   "outputs": [
    {
     "data": {
      "text/plain": [
       "'YLL050C'"
      ]
     },
     "execution_count": 17,
     "metadata": {},
     "output_type": "execute_result"
    }
   ],
   "source": []
  }
 ],
 "metadata": {
  "kernelspec": {
   "display_name": "Python 3 (ipykernel)",
   "language": "python",
   "name": "python3"
  },
  "language_info": {
   "codemirror_mode": {
    "name": "ipython",
    "version": 3
   },
   "file_extension": ".py",
   "mimetype": "text/x-python",
   "name": "python",
   "nbconvert_exporter": "python",
   "pygments_lexer": "ipython3",
   "version": "3.9.18"
  }
 },
 "nbformat": 4,
 "nbformat_minor": 5
}
