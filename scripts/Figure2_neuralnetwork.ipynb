{
 "cells": [
  {
   "cell_type": "code",
   "execution_count": 122,
   "id": "22c29a54-8f36-4909-b760-96f2d479680b",
   "metadata": {},
   "outputs": [],
   "source": [
    "import sys\n",
    "sys.path.insert(0, '/private/groups/brookslab/gabai/tools/NEMO/src/')\n",
    "from plotUtil import *\n",
    "import pickle\n",
    "import matplotlib.pyplot as plt\n",
    "\n",
    "import matplotlib as mpl\n",
    "mpl.rcParams['pdf.fonttype'] = 42\n",
    "mpl.rcParams['font.size'] = 12"
   ]
  },
  {
   "cell_type": "markdown",
   "id": "092b8be7-ca33-4d67-b1af-374d1d38371a",
   "metadata": {},
   "source": [
    "### PanelB & PanelC"
   ]
  },
  {
   "cell_type": "markdown",
   "id": "80a66feb-97b9-4b78-98b1-44e32a9efa53",
   "metadata": {},
   "source": [
    "#### download validation data:\n",
    "* wget https://public.gi.ucsc.edu/brookslab/addseq/231205_valdata_pred_out.pkl"
   ]
  },
  {
   "cell_type": "code",
   "execution_count": 7,
   "id": "a340704c-8e2c-4b42-817b-74869ff34d09",
   "metadata": {},
   "outputs": [],
   "source": [
    "pred_out = '231205_valdata_pred_out.pkl'\n",
    "with open(pred_out, 'rb') as pred_outf:\n",
    "    seq_preds = pickle.load(pred_outf)\n",
    "print(\"Loaded Python object:\", seq_preds)"
   ]
  },
  {
   "cell_type": "code",
   "execution_count": 1,
   "id": "ab0877a4-51fc-4db1-a418-7e2ad07109b5",
   "metadata": {},
   "outputs": [],
   "source": [
    "print('computing accuracy...')\n",
    "correct = {0: 0, 1: 0}\n",
    "total = {0: 0, 1: 0}\n",
    "\n",
    "for seq_id in tqdm(seq_preds):\n",
    "    label = seq_id[0]\n",
    "    pred_arr = np.round(np.array(seq_preds[seq_id]))\n",
    "    if label == 0:\n",
    "        label_arr = np.zeros(len(pred_arr))\n",
    "    else:\n",
    "        label_arr = np.ones(len(pred_arr))\n",
    "    correct_arr = (pred_arr == label_arr)\n",
    "    correct[label] += np.sum(correct_arr)\n",
    "    total[label] += len(pred_arr)\n",
    "\n",
    "accuracy = (correct[0] + correct[1]) / float(total[0] + total[1])  \n",
    "\n",
    "true_negatives = correct[0]\n",
    "true_positives = correct[1]\n",
    "false_negatives = total[1] - correct[1]\n",
    "false_positives = total[0] - correct[0]\n",
    "\n",
    "precision = true_positives / float(true_positives + false_positives)\n",
    "recall = true_positives / float(true_positives + false_negatives)\n",
    "\n",
    "print(\"True negatives:\", true_negatives)\n",
    "print(\"True positives:\", true_positives)\n",
    "print(\"False negatives:\", false_negatives)\n",
    "print(\"False positives:\", false_positives)\n",
    "\n",
    "print(\"Accuracy:\", accuracy)\n",
    "print(\"Precision:\", precision)\n",
    "print(\"Recall:\", recall)\n"
   ]
  },
  {
   "cell_type": "code",
   "execution_count": null,
   "id": "f4fff21b-c29e-4927-b295-416116ca9689",
   "metadata": {},
   "outputs": [],
   "source": [
    "# Plot prediction mean and std for each validation sequence\n",
    "seq_means = {0: [], 1: []}\n",
    "seq_stds = {0: [], 1: []}\n",
    "for seq_id in tqdm(seq_preds):\n",
    "    label = seq_id[0]\n",
    "    seq_means[label].append(np.mean(seq_preds[seq_id]))\n",
    "    seq_stds[label].append(np.std(seq_preds[seq_id]))\n",
    "fig = plt.figure(figsize=(5,4))\n",
    "plt.scatter(seq_means[0], seq_stds[0], label='negative')\n",
    "plt.scatter(seq_means[1], seq_stds[1], label='positive')\n",
    "plt.legend()\n",
    "plt.xlabel('Prediction Mean')\n",
    "plt.ylabel('Prediction Std')\n",
    "plt.show()\n",
    "plt.savefig('../figures/Supp_resnet1dv1_val_mean_std.pdf', dpi = 1000)\n",
    "plt.close()\n",
    "\n",
    "print('Plot accuracy by sequence length for each sequence in validation set...')\n",
    "seq_lens = {0: [], 1: []}\n",
    "seq_accs = {0: [], 1: []}\n",
    "for seq_id in tqdm(seq_preds):\n",
    "    seq_len = len(seq_preds[seq_id])\n",
    "    label = seq_id[0]\n",
    "    if label == 0:\n",
    "        label_arr = np.zeros(seq_len)\n",
    "    else:\n",
    "        label_arr = np.ones(seq_len)\n",
    "    pred_arr = np.round(np.array(seq_preds[seq_id]))\n",
    "    correct_arr = (pred_arr == label_arr)\n",
    "    correct = np.sum(correct_arr)\n",
    "    seq_acc = float(correct) / seq_len\n",
    "    seq_lens[label].append(seq_len)\n",
    "    seq_accs[label].append(seq_acc)\n",
    "fig = plt.figure(figsize=(5,4))\n",
    "plt.scatter(seq_lens[0], seq_accs[0], label='negative')\n",
    "plt.scatter(seq_lens[1], seq_accs[1], label='positive')\n",
    "plt.legend()\n",
    "plt.xlabel('Sequence Length')\n",
    "plt.ylabel('Sequence Accuracy')\n",
    "plt.savefig('../figures/Supp_resnet1dv1_val_accurracy_vs_seqlen.pdf.pdf', dpi = 1000)\n",
    "plt.close()\n",
    "\n",
    "# Compute ROC curve\n",
    "print('computing roc...')\n",
    "pred_list = []\n",
    "label_list = []\n",
    "for seq_id in tqdm(seq_preds):\n",
    "    seq_len = len(seq_preds[seq_id])\n",
    "    label = seq_id[0]\n",
    "    preds = seq_preds[seq_id]\n",
    "    if label == 0:\n",
    "        labels = np.zeros(seq_len)\n",
    "    else:\n",
    "        labels = np.ones(seq_len)\n",
    "    pred_list.append(preds)\n",
    "    label_list.append(labels)\n",
    "    \n",
    "pred_cat = np.concatenate(pred_list)\n",
    "label_cat = np.concatenate(label_list)\n",
    "\n",
    "fpr, tpr, thresholds = roc_curve(label_cat, pred_cat)\n",
    "roc_auc = auc(fpr, tpr)\n",
    "fig = plt.figure(figsize=(5,4))\n",
    "plt.plot([0, 1], [0, 1], color=\"navy\", lw=2, linestyle=\"--\")\n",
    "plt.plot(fpr, tpr, color=\"darkorange\", lw=2,\n",
    "        label=\"AUC = %0.2f\" % roc_auc)\n",
    "plt.title(\"Receiver operating characteristic (ROC)\", size = 'medium')\n",
    "plt.xlabel('False Positive Rate')\n",
    "plt.ylabel('True Positive Rate')\n",
    "plt.xlim([0.0, 1.0])\n",
    "plt.ylim([0.0, 1.05])\n",
    "plt.legend(loc=\"lower right\")\n",
    "plt.savefig('../figures/Figure2B_resnet1dv1_val_roc.pdf', dpi = 1000)\n",
    "plt.close()\n",
    "print('best cutoff:', thresholds[np.argmax(tpr - fpr)])\n",
    "\n",
    "# Calculate kernel density estimate\n",
    "pos_reads = []\n",
    "neg_reads = []\n",
    "for seq_id in tqdm(seq_preds):\n",
    "    label = seq_id[0]\n",
    "    if label == 0:\n",
    "        neg_reads += seq_preds[seq_id]\n",
    "    else:\n",
    "        pos_reads += seq_preds[seq_id]\n",
    "pos_kde = gaussian_kde(pos_reads)\n",
    "neg_kde = gaussian_kde(neg_reads)\n",
    "# Create a range of values for x-axis\n",
    "pos_values = np.linspace(-0.01,1.01, 100)\n",
    "neg_values = np.linspace(-0.01,1.01, 100)\n",
    "# Plot the density curve\n",
    "fig = plt.figure(figsize=(5,4))\n",
    "plt.plot(pos_values, pos_kde(pos_values), label='Pos Ctrl')\n",
    "plt.plot(neg_values, neg_kde(neg_values), label='Neg Ctrl')\n",
    "# Add labels and title\n",
    "plt.xlabel('Predicted scores')\n",
    "plt.ylabel('Density')\n",
    "plt.title('Density of predicted scores')\n",
    "# Show legend\n",
    "plt.legend()\n",
    "# Show the plot\n",
    "plt.savefig('../figures/Figure2C_resnet1dv1_val_density.pdf', dpi = 1000)\n",
    "plt.close()"
   ]
  },
  {
   "cell_type": "markdown",
   "id": "05301090-a7c5-4d44-8dc8-3bf8a5d65e75",
   "metadata": {},
   "source": [
    "### PanelE & PanelF"
   ]
  },
  {
   "cell_type": "markdown",
   "id": "f1348ec7-813a-44c6-af3e-d20fd01f6c78",
   "metadata": {},
   "source": [
    "- To get prediction results:\n",
    "\n",
    "wget https://public.gi.ucsc.edu/brookslab/addseq/resnetv1_all_prediction.tsv"
   ]
  },
  {
   "cell_type": "markdown",
   "id": "b3e5cf34-b104-4536-8b87-99dbe352e94e",
   "metadata": {},
   "source": [
    "#### Mnase-seq data"
   ]
  },
  {
   "cell_type": "code",
   "execution_count": null,
   "id": "a3ae3bbc-183c-4cc5-82ec-4fd1fdafcd9d",
   "metadata": {},
   "outputs": [],
   "source": [
    "xval, yval = plotAggregate_nuc(pred = '../data/ref/sacCer3.bedgraph', \n",
    "                  outpath = '../figures/', space=150,\n",
    "                  prefix = 'Figure4_mnase_150_tss', labels = ('distance to tss (bp)', 'mnase-seq peak'),\n",
    "                  bed = '../data/ref/allTSS.bed', window=4000, sw=10, col = {'chrom':0, 'start':1, 'end':2, 'strand':5})\n",
    "\n",
    "xval0, yval0 =plotAggregate_nuc(pred = '../data/ref/sacCer3.bedgraph', \n",
    "                  outpath = '../figures/', space=150, end = True,\n",
    "                  prefix = 'Figure4_mnase_150_tts',  labels = ('distance to tts (bp)', 'mnase-seq peak'),\n",
    "                  bed = '../data/ref/allCES.bed', window=4000, sw=10, col = {'chrom':0, 'start':1, 'end':2, 'strand':4})"
   ]
  },
  {
   "cell_type": "markdown",
   "id": "6c01b41e-3931-4772-8377-01dd5681bddc",
   "metadata": {},
   "source": [
    "#### Add-seq data"
   ]
  },
  {
   "cell_type": "code",
   "execution_count": null,
   "id": "a0ebb99f-f1f9-41c6-a9c2-7fe09bc6c417",
   "metadata": {},
   "outputs": [],
   "source": [
    "xval1, yval1 = plotAggregate(pred = '../data/resnetv1_all_prediction.tsv', outpath = '../figures/', \n",
    "                            prefix = 'Figure4_addseq_tss_150_sw10',  space=150, thred = \"\",\n",
    "                            bed = '../data/ref/allTSS.bed', window =4000, sw=10, col = {'chrom':0, 'start':1, 'end':2, 'strand':5})\n",
    "\n",
    "xval12, yval12 = plotAggregate(pred = '../data/resnetv1_all_prediction.tsv', outpath = '../figures/', \n",
    "              prefix = 'Figure4_addseq_tts_150_sw10',  space=150, thred = \"\", end = True,\n",
    "              labels = ('distance to tts (bp)', 'prediction score'),\n",
    "              bed = '../data/ref/allCES.bed', window = 4000, sw=10, col = {'chrom':0, 'start':1, 'end':2, 'strand':4})"
   ]
  },
  {
   "cell_type": "markdown",
   "id": "e7795812-c96c-4bcb-bf9e-0fcfb0d0968c",
   "metadata": {},
   "source": [
    "### Concat two plots"
   ]
  },
  {
   "cell_type": "code",
   "execution_count": null,
   "id": "40074c6f-544e-4a6a-83ae-de93a62654c7",
   "metadata": {},
   "outputs": [],
   "source": [
    "halfwindow = 2000\n",
    "space = 150\n",
    "f, (ax1, ax2) = plt.subplots(2, sharex='all', gridspec_kw={'height_ratios': [3, 2]}, figsize=(6,4), layout=\"constrained\")\n",
    "\n",
    "color = 'tab:orange'\n",
    "ax1.set_ylabel('Prediction score', color='black')\n",
    "ax1.plot(xval1, yval1, color=color, label = 'Add-seq')\n",
    "ax1.grid(alpha=0.8, axis = 'x')\n",
    "ax1.legend()\n",
    "color = 'tab:blue'\n",
    "ax2.set_ylabel('Score', color='black')  # we already handled the x-label with ax1\n",
    "ax2.plot(xval, yval, color=color, label = 'MNase-seq')\n",
    "ax2.set_xlabel('Distance to tss (bp)')\n",
    "ax2.set_xticks(np.concatenate((np.flip(np.arange(0, -halfwindow-1, -space)[1:]), np.arange(0, halfwindow+1, space)), axis=0))\n",
    "ax2.grid(alpha=0.8, axis = 'x')\n",
    "ax2.legend()\n",
    "\n",
    "\n",
    "plt.xticks( rotation='vertical')\n",
    "plt.subplots_adjust(hspace=.03)\n",
    "plt.savefig('../figures/Figure3E_tss_mnaseq_addseq_one_plot.pdf', dpi = 200)"
   ]
  },
  {
   "cell_type": "code",
   "execution_count": null,
   "id": "075ab573-5ed1-4a7b-b92b-207e2bdf23a7",
   "metadata": {},
   "outputs": [],
   "source": [
    "halfwindow = 2000\n",
    "space = 150\n",
    "\n",
    "f, (ax1, ax2) = plt.subplots(2, sharex='all', gridspec_kw={'height_ratios': [3, 2]}, figsize=(6,4), layout=\"constrained\")\n",
    "color = 'tab:orange'\n",
    "ax1.set_ylabel('Prediction score', color='black')\n",
    "ax1.plot(xval12, yval12, color=color, label = 'Add-seq')\n",
    "ax1.grid(alpha=0.8, axis = 'x')\n",
    "ax1.legend()\n",
    "color = 'tab:blue'\n",
    "ax2.set_ylabel('Score', color='black')  # we already handled the x-label with ax1\n",
    "ax2.plot(xval0, yval0, color=color, label = 'MNase-seq')\n",
    "ax2.set_xlabel('Distance to tts (bp)')\n",
    "ax2.set_xticks(np.concatenate((np.flip(np.arange(0, -halfwindow-1, -space)[1:]), np.arange(0, halfwindow+1, space)), axis=0))\n",
    "ax2.grid(alpha=0.8, axis = 'x')\n",
    "ax2.legend()\n",
    "\n",
    "\n",
    "plt.xticks( rotation='vertical')\n",
    "# plt.subplots_adjust(hspace=.03)\n",
    "plt.savefig('../figures/Figure3F_tts_mnaseq_addseq_one_plot.pdf', dpi = 200)"
   ]
  }
 ],
 "metadata": {
  "kernelspec": {
   "display_name": "Python 3 (ipykernel)",
   "language": "python",
   "name": "python3"
  },
  "language_info": {
   "codemirror_mode": {
    "name": "ipython",
    "version": 3
   },
   "file_extension": ".py",
   "mimetype": "text/x-python",
   "name": "python",
   "nbconvert_exporter": "python",
   "pygments_lexer": "ipython3",
   "version": "3.9.18"
  }
 },
 "nbformat": 4,
 "nbformat_minor": 5
}
