{
 "cells": [
  {
   "cell_type": "code",
   "execution_count": 12,
   "id": "82613f98-35ce-4f21-aec8-6b7153a9dc50",
   "metadata": {},
   "outputs": [],
   "source": [
    "import pod5\n",
    "import numpy as np\n",
    "import random\n",
    "import matplotlib.pyplot as plt\n",
    "import matplotlib as mpl\n",
    "import sys\n",
    "mpl.rcParams['pdf.fonttype'] = 42\n",
    "mpl.rcParams['font.size'] = 12\n",
    "sys.path.insert(0, '/private/groups/brookslab/gabai/tools/NEMO/src/')\n",
    "from predict import *\n",
    "from plot import *\n",
    "import importlib\n",
    "from qc import *\n",
    "from findWellPosGenes import *\n",
    "importlib.reload(sys.modules['findWellPosGenes'])\n",
    "from findWellPosGenes import *"
   ]
  },
  {
   "cell_type": "code",
   "execution_count": 2,
   "id": "5130c3e0-c870-4e50-9c29-f0522fc5d3ab",
   "metadata": {},
   "outputs": [],
   "source": [
    "nuc = '/private/groups/brookslab/gabai/projects/Add-seq/data/ref/Nucs_MittalPugh_sorted.bed'\n",
    "ref = '/private/groups/brookslab/gabai/projects/Add-seq/data/ref/sacCer3.fa'\n",
    "gtfFile = '/private/groups/brookslab/gabai/projects/Add-seq/data/ref/Saccharomyces_cerevisiae.R64-1-1.109.gtf'"
   ]
  },
  {
   "cell_type": "code",
   "execution_count": 3,
   "id": "7ad38ca6-bfa8-4a09-978d-18583bbdbec9",
   "metadata": {},
   "outputs": [],
   "source": [
    "dt_outpath = '../data/'\n",
    "fig_outpath = '../figures/'"
   ]
  },
  {
   "cell_type": "code",
   "execution_count": 4,
   "id": "20908ba3-b3fa-4685-aaa4-607b9bcf7be7",
   "metadata": {},
   "outputs": [],
   "source": [
    "window = 1200\n",
    "tssposs = gettssWithGene(nuc, ref, 1200)"
   ]
  },
  {
   "cell_type": "markdown",
   "id": "49385df7-580a-41ea-a8d1-e8ed106d0df6",
   "metadata": {},
   "source": [
    "## rep1 nuclei chrom"
   ]
  },
  {
   "cell_type": "code",
   "execution_count": 8,
   "id": "6fed2050-07a5-4b7d-9600-704319b38f8a",
   "metadata": {},
   "outputs": [],
   "source": [
    "outpath = dt_outpath"
   ]
  },
  {
   "cell_type": "code",
   "execution_count": 13,
   "id": "52d80de0-3dc6-4f13-a840-5e9629192a2c",
   "metadata": {},
   "outputs": [
    {
     "name": "stdout",
     "output_type": "stream",
     "text": [
      "number of genes with good coverage and well positioned tss: 327\n"
     ]
    }
   ],
   "source": [
    "prefix = '4_dorado_20190429_chrom'\n",
    "nuclei_chrom_1904 = '../data/pred/240912_dorado_20190429_chrom.tsv'\n",
    "nuclei_wellpos = '../data/pred/240912_dorado_20190429_chrom_window2000_nuc_aggregate_score.tsv'\n",
    "# obtain the expected modification scores at +1 nuc: subtracting +-600bp from +-1000bp range\n",
    "tssAgg = gettssAgg(nuclei_wellpos, 2000, 1200)\n",
    "# compute per gene coverage and methylation score at tss\n",
    "cov_gene, agg_gene = computeGeneAgg(nuclei_chrom_1904, tssposs, 1200)\n",
    "# score gene based on spearman correlation between methylation score at tss with expected score at tss\n",
    "scoreGenebyTss(agg_gene, cov_gene, tssAgg, window, outpath, prefix)\n",
    "genetsspos = outpath+f'{prefix}_well_positioned_genes_score_coverage_window{window}.tsv'\n",
    "plotGeneStats(genetsspos, outpath, prefix)\n",
    "chrom_1904_genes, chrom_1904_regions =filterGeneList(nuclei_chrom_1904, genetsspos, window, outpath, prefix, min_cor=0.6, min_cov=20, max_var=8000, plot_loci=False, gtfFile=gtfFile)"
   ]
  },
  {
   "cell_type": "markdown",
   "id": "b0fd6672-1796-4efa-b7db-1ad3a1f5c373",
   "metadata": {},
   "source": [
    "## rep2 nuclei chrom"
   ]
  },
  {
   "cell_type": "code",
   "execution_count": 16,
   "id": "5ac56ea3-a376-4aad-9782-7c7b15cd0b4b",
   "metadata": {},
   "outputs": [
    {
     "name": "stdout",
     "output_type": "stream",
     "text": [
      "number of genes with good coverage and well positioned tss: 219\n"
     ]
    }
   ],
   "source": [
    "prefix = '4_dorado_20210615_chrom'\n",
    "nuclei_chrom_2106 = '../data/pred/240917_dorado_20210615_full.tsv'\n",
    "nuclei_wellpos = '../data/pred/240922_dorado_20210615_chrom_window2000_nuc_aggregate_score.tsv'\n",
    "tssAgg = gettssAgg(nuclei_wellpos, 2000, 1200)\n",
    "cov_gene, agg_gene = computeGeneAgg(nuclei_chrom_2106, tssposs, 1200)\n",
    "scoreGenebyTss(agg_gene, cov_gene, tssAgg, window, outpath, prefix)\n",
    "genetsspos = outpath+f'{prefix}_well_positioned_genes_score_coverage_window{window}.tsv'\n",
    "plotGeneStats(genetsspos, outpath, prefix)\n",
    "chrom_2106_genes, chrom_2106_regions = filterGeneList(nuclei_chrom_2106, genetsspos, window, outpath, prefix, min_cor=0.6, min_cov=25, max_var=9000, plot_loci=False, gtfFile=gtfFile)"
   ]
  },
  {
   "cell_type": "markdown",
   "id": "1594c3d0-0216-4cf7-b3c3-ddb02dee2301",
   "metadata": {},
   "source": [
    "## sphe chrom"
   ]
  },
  {
   "cell_type": "code",
   "execution_count": 17,
   "id": "930f1207-0b0d-4fee-9b72-03d6b3695622",
   "metadata": {},
   "outputs": [
    {
     "name": "stdout",
     "output_type": "stream",
     "text": [
      "number of genes with good coverage and well positioned tss: 119\n"
     ]
    }
   ],
   "source": [
    "prefix = '4_dorado_202205_sphe_chrom_'\n",
    "sphe_chrom = '../data/pred/240909_dorado_sphe_using_nuclei_model.tsv'\n",
    "sphe_wellpos = '../data/pred/240909_dorado_sphe_using_nuclei_model_window2000_nuc_aggregate_score.tsv'\n",
    "tssAgg = gettssAgg(nuclei_wellpos, 2000, 1200)\n",
    "cov_gene, agg_gene = computeGeneAgg(sphe_chrom, tssposs, 1200)\n",
    "scoreGenebyTss(agg_gene, cov_gene, tssAgg, window, outpath, prefix)\n",
    "genetsspos = outpath+f'{prefix}_well_positioned_genes_score_coverage_window{window}.tsv'\n",
    "plotGeneStats(genetsspos, outpath, prefix)\n",
    "chrom_2205_genes, chrom_2205_regions= filterGeneList(sphe_chrom, genetsspos, window, outpath, prefix, min_cor=0.5, min_cov=10, max_var=5000, plot_loci=False, gtfFile=gtfFile)"
   ]
  },
  {
   "cell_type": "code",
   "execution_count": 18,
   "id": "c9919ccc-70c4-4872-be97-c3fa372512ad",
   "metadata": {},
   "outputs": [
    {
     "name": "stdout",
     "output_type": "stream",
     "text": [
      "33\n",
      "2\n"
     ]
    }
   ],
   "source": [
    "shared_nuclei_genes = list(set(chrom_1904_genes) & set(chrom_2106_genes))\n",
    "print(len(shared_nuclei_genes))\n",
    "shared_nuclei_genes = list(set(chrom_1904_genes) & set(chrom_2106_genes) & set(chrom_2205_genes))\n",
    "print(len(shared_nuclei_genes))"
   ]
  }
 ],
 "metadata": {
  "kernelspec": {
   "display_name": "Python 3 (ipykernel)",
   "language": "python",
   "name": "python3"
  },
  "language_info": {
   "codemirror_mode": {
    "name": "ipython",
    "version": 3
   },
   "file_extension": ".py",
   "mimetype": "text/x-python",
   "name": "python",
   "nbconvert_exporter": "python",
   "pygments_lexer": "ipython3",
   "version": "3.9.18"
  }
 },
 "nbformat": 4,
 "nbformat_minor": 5
}
